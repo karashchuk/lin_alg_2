{
  "nbformat": 4,
  "nbformat_minor": 0,
  "metadata": {
    "colab": {
      "name": "Lin_alg_2.ipynb",
      "provenance": []
    },
    "kernelspec": {
      "name": "python3",
      "display_name": "Python 3"
    }
  },
  "cells": [
    {
      "cell_type": "markdown",
      "metadata": {
        "id": "hijFWIP-RY5f",
        "colab_type": "text"
      },
      "source": [
        "# Решение заданий к уроку 1"
      ]
    },
    {
      "cell_type": "markdown",
      "metadata": {
        "id": "FO4oDsZPRa2x",
        "colab_type": "text"
      },
      "source": [
        "## Часть 1\n"
      ]
    },
    {
      "cell_type": "markdown",
      "metadata": {
        "id": "tHNpRdYQRpys",
        "colab_type": "text"
      },
      "source": [
        "**__1.__ Установить, какие произведения матриц $AB$ и $BA$ определены, и найти размерности полученных матриц:**\n",
        "\n",
        "   а) $A$ — матрица $4\\times 2$, $B$ — матрица $4\\times 2$;\n",
        "    \n",
        "   б) $A$ — матрица $2\\times 5$, $B$ — матрица $5\\times 3$;\n",
        "    \n",
        "   в) $A$ — матрица $8\\times 3$, $B$ — матрица $3\\times 8$;\n",
        "    \n",
        "   г) $A$ — квадратная матрица $4\\times 4$, $B$ — квадратная матрица $4\\times 4$.\n",
        "    \n"
      ]
    },
    {
      "cell_type": "markdown",
      "metadata": {
        "id": "yyqH_z2-SBf-",
        "colab_type": "text"
      },
      "source": [
        "### Решение\n",
        "\n",
        "   а) $A$ — матрица $4\\times 2$, $B$ — матрица $4\\times 2$;\n",
        "\n",
        "   Произведение этих матриц не определено, так как количество столбцов матрицы А (=2) не соответствует количеству строк матрицы В (=4)\n",
        "    \n",
        "   б) $A$ — матрица $2\\times 5$, $B$ — матрица $5\\times 3$;\n",
        "\n",
        "   Произведение этих матриц определено и размер результирующей матрицы будет $2\\times 3$\n",
        "    \n",
        "   в) $A$ — матрица $8\\times 3$, $B$ — матрица $3\\times 8$;\n",
        "\n",
        "   Произведение этих матриц определено и размер результирующей матрицы будет $8\\times 8$\n",
        "    \n",
        "   г) $A$ — квадратная матрица $4\\times 4$, $B$ — квадратная матрица $4\\times 4$.\n",
        "\n",
        "   Произведение этих матриц определено и размер результирующей матрицы будет $4\\times 4$\n",
        "    "
      ]
    },
    {
      "cell_type": "markdown",
      "metadata": {
        "id": "QKZ4ntRGRx5J",
        "colab_type": "text"
      },
      "source": [
        "**__2.__ Найти сумму и произведение матриц** $A=\\begin{pmatrix}\n",
        "1 & -2\\\\ \n",
        "3 & 0\n",
        "\\end{pmatrix}$ и $B=\\begin{pmatrix}\n",
        "4 & -1\\\\ \n",
        "0 & 5\n",
        "\\end{pmatrix}.$\n",
        "\n"
      ]
    },
    {
      "cell_type": "markdown",
      "metadata": {
        "id": "hJRQEHv5TMIn",
        "colab_type": "text"
      },
      "source": [
        "### Решение\n",
        "\n",
        "$A + B =\\begin{pmatrix}\n",
        "1 & -2\\\\ \n",
        "3 & 0\n",
        "\\end{pmatrix}  + \\begin{pmatrix}\n",
        "4 & -1\\\\ \n",
        "0 & 5\n",
        "\\end{pmatrix} = \\begin{pmatrix}\n",
        "5 & -3\\\\ \n",
        "3 & 5\n",
        "\\end{pmatrix} $\n",
        "\n",
        "$A \\cdot B =\\begin{pmatrix}\n",
        "1 & -2\\\\ \n",
        "3 & 0\n",
        "\\end{pmatrix}  \\cdot \\begin{pmatrix}\n",
        "4 & -1\\\\ \n",
        "0 & 5\n",
        "\\end{pmatrix} = \\begin{pmatrix}\n",
        "{4} & {-1-10}\\\\ \n",
        "{12} & {-3}\n",
        "\\end{pmatrix} = \\begin{pmatrix}\n",
        "{4} & {-11}\\\\ \n",
        "{12} & {-3}\n",
        "\\end{pmatrix}$\n",
        "\n"
      ]
    },
    {
      "cell_type": "code",
      "metadata": {
        "id": "c1K4iN0dTLH4",
        "colab_type": "code",
        "colab": {
          "base_uri": "https://localhost:8080/",
          "height": 119
        },
        "outputId": "a0e676b0-482f-46c0-f613-486166e3bc32"
      },
      "source": [
        "# проверим\n",
        "import numpy as np\n",
        "A = np.array([[1,-2],[3,0]])\n",
        "B = np.array([[4,-1],[0,5]])\n",
        "print(f'A+B = \\n{A+B}, \\nA*B = \\n{A.dot(B)}')\n"
      ],
      "execution_count": 40,
      "outputs": [
        {
          "output_type": "stream",
          "text": [
            "A+B = \n",
            "[[ 5 -3]\n",
            " [ 3  5]], \n",
            "A*B = \n",
            "[[  4 -11]\n",
            " [ 12  -3]]\n"
          ],
          "name": "stdout"
        }
      ]
    },
    {
      "cell_type": "markdown",
      "metadata": {
        "id": "ddogW01nRzpF",
        "colab_type": "text"
      },
      "source": [
        "**__3.__ Из закономерностей сложения и умножения матриц на число можно сделать вывод, что матрицы одного размера образуют линейное пространство. Вычислить линейную комбинацию $3A-2B+4C$ для матриц** $A=\\begin{pmatrix}\n",
        "1 & 7\\\\ \n",
        "3 & -6\n",
        "\\end{pmatrix}$, $B=\\begin{pmatrix}\n",
        "0 & 5\\\\ \n",
        "2 & -1\n",
        "\\end{pmatrix}$, $C=\\begin{pmatrix}\n",
        "2 & -4\\\\ \n",
        "1 & 1\n",
        "\\end{pmatrix}.$\n",
        "    \n"
      ]
    },
    {
      "cell_type": "markdown",
      "metadata": {
        "id": "fgSorTnPWY3H",
        "colab_type": "text"
      },
      "source": [
        "### Решение\n",
        "\n",
        "$3A-2B+4C = 3 \\cdot\\begin{pmatrix}\n",
        "1 & 7\\\\ \n",
        "3 & -6\n",
        "\\end{pmatrix} - 2\\cdot\\begin{pmatrix}\n",
        "0 & 5\\\\ \n",
        "2 & -1\n",
        "\\end{pmatrix}+ 4 \\cdot\\begin{pmatrix}\n",
        "2 & -4\\\\ \n",
        "1 & 1\n",
        "\\end{pmatrix} = \\begin{pmatrix}\n",
        "{3-0+8} & {21-10-16}\\\\ \n",
        "{9-4+4} & {-18+2+4}\n",
        "\\end{pmatrix} = \\begin{pmatrix}\n",
        "11 & -5\\\\ \n",
        "9 & -12\n",
        "\\end{pmatrix}$"
      ]
    },
    {
      "cell_type": "code",
      "metadata": {
        "id": "s_USVPziWjzH",
        "colab_type": "code",
        "colab": {
          "base_uri": "https://localhost:8080/",
          "height": 51
        },
        "outputId": "e715394d-16c6-4d46-aa83-7da4dc86649c"
      },
      "source": [
        "A = np.array([[1,7],[3,-6]])\n",
        "B = np.array([[0,5],[2,-1]])\n",
        "C = np.array([[2,-4],[1,1]])\n",
        "3*A -2*B + 4*C"
      ],
      "execution_count": 6,
      "outputs": [
        {
          "output_type": "execute_result",
          "data": {
            "text/plain": [
              "array([[ 11,  -5],\n",
              "       [  9, -12]])"
            ]
          },
          "metadata": {
            "tags": []
          },
          "execution_count": 6
        }
      ]
    },
    {
      "cell_type": "markdown",
      "metadata": {
        "id": "T_Rjq_KoR16f",
        "colab_type": "text"
      },
      "source": [
        "**__4.__ Дана матрица** $A=\\begin{pmatrix}\n",
        "4 & 1\\\\ \n",
        "5 & -2\\\\ \n",
        "2 & 3\n",
        "\\end{pmatrix}$.\n",
        "**Вычислить** $AA^{T}$ и $A^{T}A$ \n",
        "\n"
      ]
    },
    {
      "cell_type": "markdown",
      "metadata": {
        "id": "O-DzXqxfYvUq",
        "colab_type": "text"
      },
      "source": [
        "### Решение\n",
        "\n",
        "$A=\\begin{pmatrix}\n",
        "4 & 1\\\\ \n",
        "5 & -2\\\\ \n",
        "2 & 3\n",
        "\\end{pmatrix}, \\,\\,\\,\\, A^T=\\begin{pmatrix}\n",
        "4 & 5 & 2\\\\ \n",
        "1 & -2 &3 \n",
        "\\end{pmatrix}$\n",
        "\n",
        "$A\\cdot A^T=\\begin{pmatrix}\n",
        "{16+1} & {20-2} & {8+3} \\\\ \n",
        "{20-2} & {25+4} & {10-6}\\\\ \n",
        "{8+3} & {10-6} &{4+9}\n",
        "\\end{pmatrix} =  \\begin{pmatrix}\n",
        "{17} & {18} & {11} \\\\ \n",
        "{18} & {29} & {4}\\\\ \n",
        "{11} & {4} &{13}\n",
        "\\end{pmatrix}$\n",
        "\n",
        "$A^T\\cdot A = \\begin{pmatrix}\n",
        "4 & 5 & 2\\\\ \n",
        "1 & -2 &3 \n",
        "\\end{pmatrix} \\cdot \\begin{pmatrix}\n",
        "4 & 1\\\\ \n",
        "5 & -2\\\\ \n",
        "2 & 3\n",
        "\\end{pmatrix} = \\begin{pmatrix}\n",
        "{16+25+4} & {4-10+6} \\\\ \n",
        "{4-10+6} & {1+4+9} \n",
        "\\end{pmatrix} =  \\begin{pmatrix}\n",
        "{45} & {0} \\\\ \n",
        "{0} & {14} \n",
        "\\end{pmatrix}$"
      ]
    },
    {
      "cell_type": "code",
      "metadata": {
        "id": "PKlaSdgmcRG9",
        "colab_type": "code",
        "colab": {
          "base_uri": "https://localhost:8080/",
          "height": 68
        },
        "outputId": "a0cf05c0-31c5-4b1c-bc64-17b98b6f65e4"
      },
      "source": [
        "A = np.array([[4,1],[5,-2],[2,3]])\n",
        "A.dot(A.T)"
      ],
      "execution_count": 23,
      "outputs": [
        {
          "output_type": "execute_result",
          "data": {
            "text/plain": [
              "array([[17, 18, 11],\n",
              "       [18, 29,  4],\n",
              "       [11,  4, 13]])"
            ]
          },
          "metadata": {
            "tags": []
          },
          "execution_count": 23
        }
      ]
    },
    {
      "cell_type": "code",
      "metadata": {
        "id": "lA5LNrzRcxrq",
        "colab_type": "code",
        "colab": {
          "base_uri": "https://localhost:8080/",
          "height": 51
        },
        "outputId": "510085d4-d99d-48e4-c80e-32fc45c6bfbe"
      },
      "source": [
        "A.T.dot(A)"
      ],
      "execution_count": 9,
      "outputs": [
        {
          "output_type": "execute_result",
          "data": {
            "text/plain": [
              "array([[45,  0],\n",
              "       [ 0, 14]])"
            ]
          },
          "metadata": {
            "tags": []
          },
          "execution_count": 9
        }
      ]
    },
    {
      "cell_type": "markdown",
      "metadata": {
        "id": "Hrp3s3-aR4vR",
        "colab_type": "text"
      },
      "source": [
        "__5*.__ Написать на Python функцию для перемножения двух произвольных матриц, не используя NumPy."
      ]
    },
    {
      "cell_type": "markdown",
      "metadata": {
        "id": "bKTx-0sBnely",
        "colab_type": "text"
      },
      "source": [
        "### Решение"
      ]
    },
    {
      "cell_type": "code",
      "metadata": {
        "id": "XyZoXu55RfDE",
        "colab_type": "code",
        "colab": {}
      },
      "source": [
        "def matr_mult(A,B): #на вход подаются матрицы A размером m*n и B размером n*k \n",
        "  m = A.shape[0]\n",
        "  n1 = A.shape[1]\n",
        "  n2 = B.shape[0]\n",
        "  if n1 == n2: # проверка что произведение матриц определено\n",
        "    n = n1\n",
        "  else:\n",
        "    print(f'произведение матриц не определено')\n",
        "    return False\n",
        "  k = B.shape[1]\n",
        "  C = np.zeros((m,k))\n",
        "  for i in range(m):\n",
        "    for j in range(k):\n",
        "      for l in range(n): \n",
        "        C[i,j] +=A[i,l]*B[l,j] \n",
        "  return C\n",
        "\n"
      ],
      "execution_count": 21,
      "outputs": []
    },
    {
      "cell_type": "code",
      "metadata": {
        "id": "C4OMMmXAkeBy",
        "colab_type": "code",
        "colab": {
          "base_uri": "https://localhost:8080/",
          "height": 102
        },
        "outputId": "3f8dfdf1-8d34-4a7c-fc29-c2c97837fcce"
      },
      "source": [
        "# определим матрицы\n",
        "D = np.array([[1,2,3],[3,2,1]])\n",
        "G = np.array([[1,2,3,3],[5,7,6,7],[4,2,1,0]])\n",
        "print(D)\n",
        "print(G)"
      ],
      "execution_count": 30,
      "outputs": [
        {
          "output_type": "stream",
          "text": [
            "[[1 2 3]\n",
            " [3 2 1]]\n",
            "[[1 2 3 3]\n",
            " [5 7 6 7]\n",
            " [4 2 1 0]]\n"
          ],
          "name": "stdout"
        }
      ]
    },
    {
      "cell_type": "code",
      "metadata": {
        "id": "mo7e1cS0RN2Y",
        "colab_type": "code",
        "colab": {
          "base_uri": "https://localhost:8080/",
          "height": 51
        },
        "outputId": "90fafd43-159e-4866-fac6-18e9de534ce8"
      },
      "source": [
        "#проверим нашу функцию\n",
        "matr_mult(D,G)"
      ],
      "execution_count": 31,
      "outputs": [
        {
          "output_type": "execute_result",
          "data": {
            "text/plain": [
              "array([[23., 22., 18., 17.],\n",
              "       [17., 22., 22., 23.]])"
            ]
          },
          "metadata": {
            "tags": []
          },
          "execution_count": 31
        }
      ]
    },
    {
      "cell_type": "code",
      "metadata": {
        "id": "8LjkA-ZPkZQ0",
        "colab_type": "code",
        "colab": {
          "base_uri": "https://localhost:8080/",
          "height": 51
        },
        "outputId": "1c40dc0c-b2b0-41c8-d238-42be765185cf"
      },
      "source": [
        "# проверим правильность вычисления:\n",
        "D.dot(G)"
      ],
      "execution_count": 32,
      "outputs": [
        {
          "output_type": "execute_result",
          "data": {
            "text/plain": [
              "array([[23, 22, 18, 17],\n",
              "       [17, 22, 22, 23]])"
            ]
          },
          "metadata": {
            "tags": []
          },
          "execution_count": 32
        }
      ]
    },
    {
      "cell_type": "code",
      "metadata": {
        "id": "tIfokaWSqMuB",
        "colab_type": "code",
        "colab": {
          "base_uri": "https://localhost:8080/",
          "height": 51
        },
        "outputId": "b165bb21-9b22-43a7-96da-4b68670c6417"
      },
      "source": [
        "# проверим случай когда произведение не определено\n",
        "matr_mult(G,D)"
      ],
      "execution_count": 33,
      "outputs": [
        {
          "output_type": "stream",
          "text": [
            "произведение матриц не определено\n"
          ],
          "name": "stdout"
        },
        {
          "output_type": "execute_result",
          "data": {
            "text/plain": [
              "False"
            ]
          },
          "metadata": {
            "tags": []
          },
          "execution_count": 33
        }
      ]
    },
    {
      "cell_type": "markdown",
      "metadata": {
        "id": "rR03hLfLqpif",
        "colab_type": "text"
      },
      "source": [
        "## Часть 2"
      ]
    },
    {
      "cell_type": "markdown",
      "metadata": {
        "id": "W5vlJ1npquAZ",
        "colab_type": "text"
      },
      "source": [
        "**__1.__ Вычислить определитель:**\n",
        "\n",
        "   a)\n",
        "\n",
        "$$\\begin{vmatrix}\n",
        "sinx & -cosx\\\\ \n",
        "cosx & sinx\n",
        "\\end{vmatrix};$$\n",
        "\n",
        "   б)\n",
        "    \n",
        "$$\\begin{vmatrix}\n",
        "4 & 2 & 3\\\\ \n",
        "0 & 5 & 1\\\\ \n",
        "0 & 0 & 9\n",
        "\\end{vmatrix};$$\n",
        "    \n",
        "   в)\n",
        "\n",
        "$$\\begin{vmatrix}\n",
        "1 & 2 & 3\\\\ \n",
        "4 & 5 & 6\\\\ \n",
        "7 & 8 & 9\n",
        "\\end{vmatrix}.$$\n",
        "\n",
        "\n"
      ]
    },
    {
      "cell_type": "markdown",
      "metadata": {
        "id": "hKCKH8sd2BAE",
        "colab_type": "text"
      },
      "source": [
        "### Решение \n",
        "   a)\n",
        "\n",
        "$\\begin{vmatrix}\n",
        "sinx & -cosx\\\\ \n",
        "cosx & sinx\n",
        "\\end{vmatrix} = \\sin^2x + \\cos^2x = 1$\n",
        "\n",
        "   б)\n",
        "\n",
        "так как матрица    $\\begin{vmatrix}\n",
        "4 & 2 & 3\\\\ \n",
        "0 & 5 & 1\\\\ \n",
        "0 & 0 & 9\n",
        "\\end{vmatrix}$ треугольная, то определитель   $det = 4*5*9 = 180$ \n",
        "    \n",
        "   в)\n",
        "\n",
        "$\\begin{vmatrix}\n",
        "1 & 2 & 3\\\\ \n",
        "4 & 5 & 6\\\\ \n",
        "7 & 8 & 9\n",
        "\\end{vmatrix} = 1*5*9+2*6*7+4*8*3 - 7*5*3-8*6*1-4*2*9 = 45+84+96-105-48-72 = 0$"
      ]
    },
    {
      "cell_type": "code",
      "metadata": {
        "id": "kIbclTzW29x6",
        "colab_type": "code",
        "colab": {
          "base_uri": "https://localhost:8080/",
          "height": 34
        },
        "outputId": "7444c395-3c3c-4c47-bc90-b2d66949a4e5"
      },
      "source": [
        "H = np.array([\n",
        "              [4,2,3],\n",
        "              [0,5,1],\n",
        "              [0,0,9]\n",
        "              ])\n",
        "np.linalg.det(H)"
      ],
      "execution_count": 35,
      "outputs": [
        {
          "output_type": "execute_result",
          "data": {
            "text/plain": [
              "180.0"
            ]
          },
          "metadata": {
            "tags": []
          },
          "execution_count": 35
        }
      ]
    },
    {
      "cell_type": "markdown",
      "metadata": {
        "id": "QvnJcMPgqylE",
        "colab_type": "text"
      },
      "source": [
        "**__2.__ Определитель матрицы $A$ равен $4$. Найти:**\n",
        "\n",
        "   а) $det(A^{2})$;\n",
        "    \n",
        "   б) $det(A^{T})$;\n",
        "    \n",
        "   в) $det(2A)$.\n",
        "   \n"
      ]
    },
    {
      "cell_type": "markdown",
      "metadata": {
        "id": "HsVZcJFD43P3",
        "colab_type": "text"
      },
      "source": [
        "### Решение\n",
        "\n",
        "$det A = 4, \\,\\,\\,$ тогда\n",
        "\n",
        "\n",
        "   а) $det(A^{2}) = det (A\\cdot A))= det A \\cdot det A = 4*4 = 16$;\n",
        "    \n",
        "   б) $det(A^{T}) = det A = 4$;\n",
        "    \n",
        "   в) $det(2A)$ однозначно определить нельзя потому что множитель мы можем выносить только из строки или колонки. \n",
        "   \n",
        "   Но если допустим что размер матриц = $n\\times n$, тогда  \n",
        "   \n",
        "   $det(2A) = 2*n*det A = 8n $."
      ]
    },
    {
      "cell_type": "markdown",
      "metadata": {
        "id": "whsrQcRaq0nQ",
        "colab_type": "text"
      },
      "source": [
        "**__3.__  Доказать, что матрица**\n",
        "\n",
        "$$\\begin{pmatrix}\n",
        "-2 & 7 & -3\\\\ \n",
        "4 & -14 & 6\\\\ \n",
        "-3 & 7 & 13\n",
        "\\end{pmatrix}$$\n",
        "   \n",
        "вырожденная.\n",
        "\n"
      ]
    },
    {
      "cell_type": "markdown",
      "metadata": {
        "id": "VRgRn38J6lS_",
        "colab_type": "text"
      },
      "source": [
        "### Решение\n",
        "\n",
        "Умножим первую строку на -2\n",
        "\n",
        "$\\begin{pmatrix}\n",
        "-2 & 7 & -3\\\\ \n",
        "4 & -14 & 6\\\\ \n",
        "-3 & 7 & 13\n",
        "\\end{pmatrix}  = \\begin{pmatrix}\n",
        "4 & -14 & 6\\\\ \n",
        "4 & -14 & 6\\\\ \n",
        "-3 & 7 & 13\n",
        "\\end{pmatrix}$\n",
        "\n",
        "Выдим что первые две строки одинаковые , следовательно определитель такой матрицы будет равен 0 и матрица будет вырождена"
      ]
    },
    {
      "cell_type": "code",
      "metadata": {
        "id": "7CjYoJUX7abM",
        "colab_type": "code",
        "colab": {
          "base_uri": "https://localhost:8080/",
          "height": 34
        },
        "outputId": "9150ecaf-cbc0-493c-e561-ac686e09133d"
      },
      "source": [
        "# проверим\n",
        "A1 = np.array([[-2,7,-3],[4,-14,6],[-3,7,13]])\n",
        "np.linalg.det(A1)"
      ],
      "execution_count": 37,
      "outputs": [
        {
          "output_type": "execute_result",
          "data": {
            "text/plain": [
              "0.0"
            ]
          },
          "metadata": {
            "tags": []
          },
          "execution_count": 37
        }
      ]
    },
    {
      "cell_type": "markdown",
      "metadata": {
        "id": "KzTS9iArq2vT",
        "colab_type": "text"
      },
      "source": [
        "**__4.__ Найти ранг матрицы:**\n",
        "\n",
        "   а) $\\begin{pmatrix}\n",
        "1 & 2 & 3\\\\ \n",
        "1 & 1 & 1\\\\ \n",
        "2 & 3 & 4\n",
        "\\end{pmatrix};$\n",
        "\n",
        "   б) $\\begin{pmatrix}\n",
        "0 & 0 & 2 & 1\\\\ \n",
        "0 & 0 & 2 & 2\\\\ \n",
        "0 & 0 & 4 & 3\\\\ \n",
        "2 & 3 & 5 & 6\n",
        "\\end{pmatrix}.$"
      ]
    },
    {
      "cell_type": "markdown",
      "metadata": {
        "id": "ajQpSua18Auy",
        "colab_type": "text"
      },
      "source": [
        "### Решение\n",
        "\n",
        "   а) можно заметить что в матрице $\\begin{pmatrix}\n",
        "1 & 2 & 3\\\\ \n",
        "1 & 1 & 1\\\\ \n",
        "2 & 3 & 4\n",
        "\\end{pmatrix} $ третья строка является суммой первых двух, следовательно третья строка является линейной комбинацией первых двух строк и для определения ранга матрицы ее можно выбросить. \n",
        "Строчный ранг оставшейся матрицы = 2, так как эти строки линейно не зависимы\n",
        "\n",
        "\n",
        "\n",
        "\n",
        "   б) можно заметить что в матрице $\\begin{pmatrix}\n",
        "0 & 0 & 2 & 1\\\\ \n",
        "0 & 0 & 2 & 2\\\\ \n",
        "0 & 0 & 4 & 3\\\\ \n",
        "2 & 3 & 5 & 6\n",
        "\\end{pmatrix}$ третья строка является суммой первых двух, следовательно третья строка является линейной комбинацией первых двух строк и для определения ранга матрицы ее можно выбросить. Получим матрицу:\n",
        "\n",
        "$\\begin{pmatrix}\n",
        "0 & 0 & 2 & 1\\\\ \n",
        "0 & 0 & 2 & 2\\\\ \n",
        "2 & 3 & 5 & 6\n",
        "\\end{pmatrix}$ \n",
        "\n",
        "которая состоит из 3 линейно-назависимы строк, следовательно ранг матрицы = 3"
      ]
    },
    {
      "cell_type": "code",
      "metadata": {
        "id": "qeO3CTzAqseH",
        "colab_type": "code",
        "colab": {
          "base_uri": "https://localhost:8080/",
          "height": 34
        },
        "outputId": "88aaa23d-cacf-4707-caa9-1e2f34fa2f65"
      },
      "source": [
        "# проверим\n",
        "A2 = np.array([\n",
        "               [1,2,3],\n",
        "               [1,1,1],\n",
        "               [2,3,4]\n",
        "               ])\n",
        "np.linalg.matrix_rank(A2)"
      ],
      "execution_count": 38,
      "outputs": [
        {
          "output_type": "execute_result",
          "data": {
            "text/plain": [
              "2"
            ]
          },
          "metadata": {
            "tags": []
          },
          "execution_count": 38
        }
      ]
    },
    {
      "cell_type": "code",
      "metadata": {
        "id": "GjhXrr0N-k-J",
        "colab_type": "code",
        "colab": {
          "base_uri": "https://localhost:8080/",
          "height": 34
        },
        "outputId": "8375d891-8959-4789-a22e-592947d3c4ac"
      },
      "source": [
        "A3 = np.array([\n",
        "               [0,0,2,1],\n",
        "               [0,0,2,2],\n",
        "               [0,0,4,3],\n",
        "               [2,3,5,6]\n",
        "               ])\n",
        "np.linalg.matrix_rank(A3)"
      ],
      "execution_count": 39,
      "outputs": [
        {
          "output_type": "execute_result",
          "data": {
            "text/plain": [
              "3"
            ]
          },
          "metadata": {
            "tags": []
          },
          "execution_count": 39
        }
      ]
    }
  ]
}